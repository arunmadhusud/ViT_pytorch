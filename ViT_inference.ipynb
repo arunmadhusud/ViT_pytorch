{
  "nbformat": 4,
  "nbformat_minor": 0,
  "metadata": {
    "colab": {
      "provenance": []
    },
    "kernelspec": {
      "name": "python3",
      "display_name": "Python 3"
    },
    "language_info": {
      "name": "python"
    }
  },
  "cells": [
    {
      "cell_type": "code",
      "source": [
        "!pip install timm"
      ],
      "metadata": {
        "id": "CNrdQpK1Htlh"
      },
      "execution_count": null,
      "outputs": []
    },
    {
      "cell_type": "code",
      "execution_count": 30,
      "metadata": {
        "id": "sNc2H1NmHXWd"
      },
      "outputs": [],
      "source": [
        "import numpy as np\n",
        "import timm\n",
        "import torch\n",
        "from custom import VisionTransformer\n",
        "\n",
        "# Function to calculate the number of learnable (requires_grad=True) parameters in a module\n",
        "def get_n_params(module):\n",
        "    return sum(p.numel() for p in module.parameters() if p.requires_grad)\n",
        "\n",
        "# Function to assert that two tensors are equal within a given tolerance\n",
        "def assert_tensors_equal(t1, t2, rtol=1e-05, atol=3e-06):\n",
        "    # Detach tensors from computation graph and convert them to numpy arrays\n",
        "    a1, a2 = t1.detach().numpy(), t2.detach().numpy()\n",
        "    # Assert that all elements are approximately equal within the given relative and absolute tolerances\n",
        "    np.testing.assert_allclose(a1, a2, rtol=rtol, atol=atol)"
      ]
    },
    {
      "cell_type": "code",
      "source": [
        "# Define the name of the model to create\n",
        "model_name = \"vit_base_patch16_384\"\n",
        "\n",
        "# Create the official model using timm's create_model function with pretrained weights\n",
        "model_official = timm.create_model(model_name, pretrained=True)\n",
        "\n",
        "# Print the total number of parameters in the official model\n",
        "print(\"Total number of parameters in official model:\", get_n_params(model_official))\n",
        "\n",
        "# Set the official model to evaluation mode\n",
        "model_official.eval()\n",
        "\n",
        "# Print the type of the official model\n",
        "print(\"Type of model_official:\", type(model_official))"
      ],
      "metadata": {
        "colab": {
          "base_uri": "https://localhost:8080/"
        },
        "id": "s-cwlXJkHcMx",
        "outputId": "0241e285-444a-4e37-cec7-b94b921e28d6"
      },
      "execution_count": 31,
      "outputs": [
        {
          "output_type": "stream",
          "name": "stdout",
          "text": [
            "Total number of parameters in official model: 86859496\n",
            "Type of model_official: <class 'timm.models.vision_transformer.VisionTransformer'>\n"
          ]
        }
      ]
    },
    {
      "cell_type": "code",
      "source": [
        "# Configuration dictionary for custom model\n",
        "custom_config = {\n",
        "    \"img_size\": 384,\n",
        "    \"in_chans\": 3,\n",
        "    \"patch_size\": 16,\n",
        "    \"embed_dim\": 768,\n",
        "    \"depth\": 12,\n",
        "    \"n_heads\": 12,\n",
        "    \"qkv_bias\": True,\n",
        "    \"mlp_ratio\": 4,\n",
        "}\n",
        "\n",
        "# Create the custom VisionTransformer model using the provided configuration\n",
        "model_custom = VisionTransformer(**custom_config)\n",
        "\n",
        "# Print the total number of parameters in the custom model\n",
        "print(\"Total number of parameters in custom model:\", get_n_params(model_custom))\n",
        "\n",
        "# Set the custom model to evaluation mode\n",
        "model_custom.eval()"
      ],
      "metadata": {
        "colab": {
          "base_uri": "https://localhost:8080/"
        },
        "id": "jFPqTkt4Hevr",
        "outputId": "009c66b4-c10f-4d33-ef3b-9d8ca12d7051"
      },
      "execution_count": 32,
      "outputs": [
        {
          "output_type": "stream",
          "name": "stdout",
          "text": [
            "Total number of parameters in custom model: 86859496\n"
          ]
        },
        {
          "output_type": "execute_result",
          "data": {
            "text/plain": [
              "VisionTransformer(\n",
              "  (patch_embed): PatchEmbed(\n",
              "    (proj): Conv2d(3, 768, kernel_size=(16, 16), stride=(16, 16))\n",
              "  )\n",
              "  (pos_drop): Dropout(p=0, inplace=False)\n",
              "  (blocks): ModuleList(\n",
              "    (0-11): 12 x Block(\n",
              "      (norm1): LayerNorm((768,), eps=1e-06, elementwise_affine=True)\n",
              "      (attn): Attention(\n",
              "        (qkv): Linear(in_features=768, out_features=2304, bias=True)\n",
              "        (attn_drop): Dropout(p=0, inplace=False)\n",
              "        (proj_drop): Dropout(p=0, inplace=False)\n",
              "        (proj): Linear(in_features=768, out_features=768, bias=True)\n",
              "      )\n",
              "      (norm2): LayerNorm((768,), eps=1e-06, elementwise_affine=True)\n",
              "      (mlp): MLP(\n",
              "        (fc1): Linear(in_features=768, out_features=3072, bias=True)\n",
              "        (act): GELU(approximate='none')\n",
              "        (fc2): Linear(in_features=3072, out_features=768, bias=True)\n",
              "        (drop): Dropout(p=0, inplace=False)\n",
              "      )\n",
              "    )\n",
              "  )\n",
              "  (norm): LayerNorm((768,), eps=1e-06, elementwise_affine=True)\n",
              "  (head): Linear(in_features=768, out_features=1000, bias=True)\n",
              ")"
            ]
          },
          "metadata": {},
          "execution_count": 32
        }
      ]
    },
    {
      "cell_type": "code",
      "source": [
        "# Iterate through named parameters of both official and custom models\n",
        "for (n_o, p_o), (n_c, p_c) in zip(model_official.named_parameters(), model_custom.named_parameters()):\n",
        "    # Assert that the number of elements in both parameters are equal\n",
        "    assert p_o.numel() == p_c.numel()\n",
        "\n",
        "    # Print the names of the corresponding parameters\n",
        "    print(f\"{n_o} | {n_c}\")\n",
        "\n",
        "    # Copy the data from official model's parameter to custom model's parameter\n",
        "    p_c.data[:] = p_o.data\n",
        "\n",
        "    # Assert that the tensors of both parameters are equal using a custom function assert_tensors_equal\n",
        "    assert_tensors_equal(p_c.data, p_o.data)\n"
      ],
      "metadata": {
        "colab": {
          "base_uri": "https://localhost:8080/"
        },
        "id": "8Rk-hZ0rHgQN",
        "outputId": "e3949bf5-b731-4d4e-d28d-58015ec4bf41"
      },
      "execution_count": 33,
      "outputs": [
        {
          "output_type": "stream",
          "name": "stdout",
          "text": [
            "cls_token | cls_token\n",
            "pos_embed | pos_embed\n",
            "patch_embed.proj.weight | patch_embed.proj.weight\n",
            "patch_embed.proj.bias | patch_embed.proj.bias\n",
            "blocks.0.norm1.weight | blocks.0.norm1.weight\n",
            "blocks.0.norm1.bias | blocks.0.norm1.bias\n",
            "blocks.0.attn.qkv.weight | blocks.0.attn.qkv.weight\n",
            "blocks.0.attn.qkv.bias | blocks.0.attn.qkv.bias\n",
            "blocks.0.attn.proj.weight | blocks.0.attn.proj.weight\n",
            "blocks.0.attn.proj.bias | blocks.0.attn.proj.bias\n",
            "blocks.0.norm2.weight | blocks.0.norm2.weight\n",
            "blocks.0.norm2.bias | blocks.0.norm2.bias\n",
            "blocks.0.mlp.fc1.weight | blocks.0.mlp.fc1.weight\n",
            "blocks.0.mlp.fc1.bias | blocks.0.mlp.fc1.bias\n",
            "blocks.0.mlp.fc2.weight | blocks.0.mlp.fc2.weight\n",
            "blocks.0.mlp.fc2.bias | blocks.0.mlp.fc2.bias\n",
            "blocks.1.norm1.weight | blocks.1.norm1.weight\n",
            "blocks.1.norm1.bias | blocks.1.norm1.bias\n",
            "blocks.1.attn.qkv.weight | blocks.1.attn.qkv.weight\n",
            "blocks.1.attn.qkv.bias | blocks.1.attn.qkv.bias\n",
            "blocks.1.attn.proj.weight | blocks.1.attn.proj.weight\n",
            "blocks.1.attn.proj.bias | blocks.1.attn.proj.bias\n",
            "blocks.1.norm2.weight | blocks.1.norm2.weight\n",
            "blocks.1.norm2.bias | blocks.1.norm2.bias\n",
            "blocks.1.mlp.fc1.weight | blocks.1.mlp.fc1.weight\n",
            "blocks.1.mlp.fc1.bias | blocks.1.mlp.fc1.bias\n",
            "blocks.1.mlp.fc2.weight | blocks.1.mlp.fc2.weight\n",
            "blocks.1.mlp.fc2.bias | blocks.1.mlp.fc2.bias\n",
            "blocks.2.norm1.weight | blocks.2.norm1.weight\n",
            "blocks.2.norm1.bias | blocks.2.norm1.bias\n",
            "blocks.2.attn.qkv.weight | blocks.2.attn.qkv.weight\n",
            "blocks.2.attn.qkv.bias | blocks.2.attn.qkv.bias\n",
            "blocks.2.attn.proj.weight | blocks.2.attn.proj.weight\n",
            "blocks.2.attn.proj.bias | blocks.2.attn.proj.bias\n",
            "blocks.2.norm2.weight | blocks.2.norm2.weight\n",
            "blocks.2.norm2.bias | blocks.2.norm2.bias\n",
            "blocks.2.mlp.fc1.weight | blocks.2.mlp.fc1.weight\n",
            "blocks.2.mlp.fc1.bias | blocks.2.mlp.fc1.bias\n",
            "blocks.2.mlp.fc2.weight | blocks.2.mlp.fc2.weight\n",
            "blocks.2.mlp.fc2.bias | blocks.2.mlp.fc2.bias\n",
            "blocks.3.norm1.weight | blocks.3.norm1.weight\n",
            "blocks.3.norm1.bias | blocks.3.norm1.bias\n",
            "blocks.3.attn.qkv.weight | blocks.3.attn.qkv.weight\n",
            "blocks.3.attn.qkv.bias | blocks.3.attn.qkv.bias\n",
            "blocks.3.attn.proj.weight | blocks.3.attn.proj.weight\n",
            "blocks.3.attn.proj.bias | blocks.3.attn.proj.bias\n",
            "blocks.3.norm2.weight | blocks.3.norm2.weight\n",
            "blocks.3.norm2.bias | blocks.3.norm2.bias\n",
            "blocks.3.mlp.fc1.weight | blocks.3.mlp.fc1.weight\n",
            "blocks.3.mlp.fc1.bias | blocks.3.mlp.fc1.bias\n",
            "blocks.3.mlp.fc2.weight | blocks.3.mlp.fc2.weight\n",
            "blocks.3.mlp.fc2.bias | blocks.3.mlp.fc2.bias\n",
            "blocks.4.norm1.weight | blocks.4.norm1.weight\n",
            "blocks.4.norm1.bias | blocks.4.norm1.bias\n",
            "blocks.4.attn.qkv.weight | blocks.4.attn.qkv.weight\n",
            "blocks.4.attn.qkv.bias | blocks.4.attn.qkv.bias\n",
            "blocks.4.attn.proj.weight | blocks.4.attn.proj.weight\n",
            "blocks.4.attn.proj.bias | blocks.4.attn.proj.bias\n",
            "blocks.4.norm2.weight | blocks.4.norm2.weight\n",
            "blocks.4.norm2.bias | blocks.4.norm2.bias\n",
            "blocks.4.mlp.fc1.weight | blocks.4.mlp.fc1.weight\n",
            "blocks.4.mlp.fc1.bias | blocks.4.mlp.fc1.bias\n",
            "blocks.4.mlp.fc2.weight | blocks.4.mlp.fc2.weight\n",
            "blocks.4.mlp.fc2.bias | blocks.4.mlp.fc2.bias\n",
            "blocks.5.norm1.weight | blocks.5.norm1.weight\n",
            "blocks.5.norm1.bias | blocks.5.norm1.bias\n",
            "blocks.5.attn.qkv.weight | blocks.5.attn.qkv.weight\n",
            "blocks.5.attn.qkv.bias | blocks.5.attn.qkv.bias\n",
            "blocks.5.attn.proj.weight | blocks.5.attn.proj.weight\n",
            "blocks.5.attn.proj.bias | blocks.5.attn.proj.bias\n",
            "blocks.5.norm2.weight | blocks.5.norm2.weight\n",
            "blocks.5.norm2.bias | blocks.5.norm2.bias\n",
            "blocks.5.mlp.fc1.weight | blocks.5.mlp.fc1.weight\n",
            "blocks.5.mlp.fc1.bias | blocks.5.mlp.fc1.bias\n",
            "blocks.5.mlp.fc2.weight | blocks.5.mlp.fc2.weight\n",
            "blocks.5.mlp.fc2.bias | blocks.5.mlp.fc2.bias\n",
            "blocks.6.norm1.weight | blocks.6.norm1.weight\n",
            "blocks.6.norm1.bias | blocks.6.norm1.bias\n",
            "blocks.6.attn.qkv.weight | blocks.6.attn.qkv.weight\n",
            "blocks.6.attn.qkv.bias | blocks.6.attn.qkv.bias\n",
            "blocks.6.attn.proj.weight | blocks.6.attn.proj.weight\n",
            "blocks.6.attn.proj.bias | blocks.6.attn.proj.bias\n",
            "blocks.6.norm2.weight | blocks.6.norm2.weight\n",
            "blocks.6.norm2.bias | blocks.6.norm2.bias\n",
            "blocks.6.mlp.fc1.weight | blocks.6.mlp.fc1.weight\n",
            "blocks.6.mlp.fc1.bias | blocks.6.mlp.fc1.bias\n",
            "blocks.6.mlp.fc2.weight | blocks.6.mlp.fc2.weight\n",
            "blocks.6.mlp.fc2.bias | blocks.6.mlp.fc2.bias\n",
            "blocks.7.norm1.weight | blocks.7.norm1.weight\n",
            "blocks.7.norm1.bias | blocks.7.norm1.bias\n",
            "blocks.7.attn.qkv.weight | blocks.7.attn.qkv.weight\n",
            "blocks.7.attn.qkv.bias | blocks.7.attn.qkv.bias\n",
            "blocks.7.attn.proj.weight | blocks.7.attn.proj.weight\n",
            "blocks.7.attn.proj.bias | blocks.7.attn.proj.bias\n",
            "blocks.7.norm2.weight | blocks.7.norm2.weight\n",
            "blocks.7.norm2.bias | blocks.7.norm2.bias\n",
            "blocks.7.mlp.fc1.weight | blocks.7.mlp.fc1.weight\n",
            "blocks.7.mlp.fc1.bias | blocks.7.mlp.fc1.bias\n",
            "blocks.7.mlp.fc2.weight | blocks.7.mlp.fc2.weight\n",
            "blocks.7.mlp.fc2.bias | blocks.7.mlp.fc2.bias\n",
            "blocks.8.norm1.weight | blocks.8.norm1.weight\n",
            "blocks.8.norm1.bias | blocks.8.norm1.bias\n",
            "blocks.8.attn.qkv.weight | blocks.8.attn.qkv.weight\n",
            "blocks.8.attn.qkv.bias | blocks.8.attn.qkv.bias\n",
            "blocks.8.attn.proj.weight | blocks.8.attn.proj.weight\n",
            "blocks.8.attn.proj.bias | blocks.8.attn.proj.bias\n",
            "blocks.8.norm2.weight | blocks.8.norm2.weight\n",
            "blocks.8.norm2.bias | blocks.8.norm2.bias\n",
            "blocks.8.mlp.fc1.weight | blocks.8.mlp.fc1.weight\n",
            "blocks.8.mlp.fc1.bias | blocks.8.mlp.fc1.bias\n",
            "blocks.8.mlp.fc2.weight | blocks.8.mlp.fc2.weight\n",
            "blocks.8.mlp.fc2.bias | blocks.8.mlp.fc2.bias\n",
            "blocks.9.norm1.weight | blocks.9.norm1.weight\n",
            "blocks.9.norm1.bias | blocks.9.norm1.bias\n",
            "blocks.9.attn.qkv.weight | blocks.9.attn.qkv.weight\n",
            "blocks.9.attn.qkv.bias | blocks.9.attn.qkv.bias\n",
            "blocks.9.attn.proj.weight | blocks.9.attn.proj.weight\n",
            "blocks.9.attn.proj.bias | blocks.9.attn.proj.bias\n",
            "blocks.9.norm2.weight | blocks.9.norm2.weight\n",
            "blocks.9.norm2.bias | blocks.9.norm2.bias\n",
            "blocks.9.mlp.fc1.weight | blocks.9.mlp.fc1.weight\n",
            "blocks.9.mlp.fc1.bias | blocks.9.mlp.fc1.bias\n",
            "blocks.9.mlp.fc2.weight | blocks.9.mlp.fc2.weight\n",
            "blocks.9.mlp.fc2.bias | blocks.9.mlp.fc2.bias\n",
            "blocks.10.norm1.weight | blocks.10.norm1.weight\n",
            "blocks.10.norm1.bias | blocks.10.norm1.bias\n",
            "blocks.10.attn.qkv.weight | blocks.10.attn.qkv.weight\n",
            "blocks.10.attn.qkv.bias | blocks.10.attn.qkv.bias\n",
            "blocks.10.attn.proj.weight | blocks.10.attn.proj.weight\n",
            "blocks.10.attn.proj.bias | blocks.10.attn.proj.bias\n",
            "blocks.10.norm2.weight | blocks.10.norm2.weight\n",
            "blocks.10.norm2.bias | blocks.10.norm2.bias\n",
            "blocks.10.mlp.fc1.weight | blocks.10.mlp.fc1.weight\n",
            "blocks.10.mlp.fc1.bias | blocks.10.mlp.fc1.bias\n",
            "blocks.10.mlp.fc2.weight | blocks.10.mlp.fc2.weight\n",
            "blocks.10.mlp.fc2.bias | blocks.10.mlp.fc2.bias\n",
            "blocks.11.norm1.weight | blocks.11.norm1.weight\n",
            "blocks.11.norm1.bias | blocks.11.norm1.bias\n",
            "blocks.11.attn.qkv.weight | blocks.11.attn.qkv.weight\n",
            "blocks.11.attn.qkv.bias | blocks.11.attn.qkv.bias\n",
            "blocks.11.attn.proj.weight | blocks.11.attn.proj.weight\n",
            "blocks.11.attn.proj.bias | blocks.11.attn.proj.bias\n",
            "blocks.11.norm2.weight | blocks.11.norm2.weight\n",
            "blocks.11.norm2.bias | blocks.11.norm2.bias\n",
            "blocks.11.mlp.fc1.weight | blocks.11.mlp.fc1.weight\n",
            "blocks.11.mlp.fc1.bias | blocks.11.mlp.fc1.bias\n",
            "blocks.11.mlp.fc2.weight | blocks.11.mlp.fc2.weight\n",
            "blocks.11.mlp.fc2.bias | blocks.11.mlp.fc2.bias\n",
            "norm.weight | norm.weight\n",
            "norm.bias | norm.bias\n",
            "head.weight | head.weight\n",
            "head.bias | head.bias\n"
          ]
        }
      ]
    },
    {
      "cell_type": "code",
      "source": [
        "inp = torch.rand(1, 3, 384, 384)\n",
        "res_c = model_custom(inp)\n",
        "res_o = model_official(inp)\n",
        "\n",
        "# Asserts\n",
        "assert get_n_params(model_custom) == get_n_params(model_official)\n",
        "assert_tensors_equal(res_c, res_o)\n",
        "\n",
        "# Save custom model\n",
        "torch.save(model_custom, \"model.pth\")"
      ],
      "metadata": {
        "id": "wNvJh-hDHh87"
      },
      "execution_count": 34,
      "outputs": []
    },
    {
      "cell_type": "code",
      "source": [
        "import numpy as np\n",
        "from PIL import Image\n",
        "import torch\n",
        "\n",
        "k = 10\n",
        "\n",
        "imagenet_labels = dict(enumerate(open(\"classes.txt\")))\n",
        "\n",
        "model = torch.load(\"model.pth\")\n",
        "model.eval()\n",
        "\n",
        "img = (np.array(Image.open(\"cat.png\")) / 128) - 1  # in the range -1, 1\n",
        "inp = torch.from_numpy(img).permute(2, 0, 1).unsqueeze(0).to(torch.float32)\n",
        "logits = model(inp)\n",
        "probs = torch.nn.functional.softmax(logits, dim=-1)\n",
        "\n",
        "top_probs, top_ixs = probs[0].topk(k)\n",
        "\n",
        "for i, (ix_, prob_) in enumerate(zip(top_ixs, top_probs)):\n",
        "    ix = ix_.item()\n",
        "    prob = prob_.item()\n",
        "    cls = imagenet_labels[ix].strip()\n",
        "    print(f\"{i}: {cls:<45} --- {prob:.4f}\")"
      ],
      "metadata": {
        "colab": {
          "base_uri": "https://localhost:8080/"
        },
        "id": "4qLYXq8AIs5v",
        "outputId": "e1e84caa-672c-420e-e11b-8308c3dc3fab"
      },
      "execution_count": 35,
      "outputs": [
        {
          "output_type": "stream",
          "name": "stdout",
          "text": [
            "0: tabby, tabby_cat                              --- 0.8001\n",
            "1: tiger_cat                                     --- 0.1752\n",
            "2: Egyptian_cat                                  --- 0.0172\n",
            "3: lynx, catamount                               --- 0.0018\n",
            "4: Persian_cat                                   --- 0.0011\n",
            "5: Siamese_cat, Siamese                          --- 0.0002\n",
            "6: bow_tie, bow-tie, bowtie                      --- 0.0002\n",
            "7: weasel                                        --- 0.0001\n",
            "8: lens_cap, lens_cover                          --- 0.0001\n",
            "9: remote_control, remote                        --- 0.0001\n"
          ]
        }
      ]
    }
  ]
}