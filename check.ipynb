{
 "cells": [
  {
   "cell_type": "code",
   "execution_count": 9,
   "metadata": {},
   "outputs": [
    {
     "name": "stdout",
     "output_type": "stream",
     "text": [
      "Output shape: torch.Size([1, 196, 768])\n"
     ]
    }
   ],
   "source": [
    "import torch\n",
    "import torch.nn as nn\n",
    "\n",
    "class PatchEmbed(nn.Module):\n",
    "    def __init__(self, img_size, patch_size, in_chans=3, embed_dim=768):\n",
    "        \"\"\"\n",
    "        Args:\n",
    "            img_size (int): Size of the input image (assuming square image).\n",
    "            patch_size (int): Size of each patch (assuming square patches).\n",
    "            in_chans (int): Number of input channels (e.g., 3 for RGB images).\n",
    "            embed_dim (int): Dimension of the embedding space.\n",
    "        \"\"\"\n",
    "        super().__init__()\n",
    "        self.img_size = img_size\n",
    "        self.patch_size = patch_size\n",
    "        self.n_patches = (img_size // patch_size) ** 2\n",
    "\n",
    "        # Convolutional layer to project each patch to the embedding dimension\n",
    "        self.proj = nn.Conv2d(in_chans, embed_dim, kernel_size=patch_size, stride=patch_size)\n",
    "\n",
    "    def forward(self, x):\n",
    "        \"\"\"\n",
    "        Args:\n",
    "            x (torch.Tensor): Input tensor of shape (batch_size, in_chans, img_size, img_size).\n",
    "\n",
    "        Returns:\n",
    "            torch.Tensor: Output tensor of shape (batch_size, n_patches, embed_dim).\n",
    "        \"\"\"\n",
    "        # Apply the convolutional layer to project patches to the embedding dimension\n",
    "        x = self.proj(x)  # [batch_size, embed_dim, n_patches**0.5, n_patches**0.5]\n",
    "        \n",
    "        # Flatten the spatial dimensions (height and width) into one dimension\n",
    "        x = x.flatten(2)  # [batch_size, embed_dim, n_patches]\n",
    "        \n",
    "        # Transpose the tensor to get the shape [batch_size, n_patches, embed_dim]\n",
    "        x = x.transpose(1, 2)  # [batch_size, n_patches, embed_dim]\n",
    "        \n",
    "        return x\n",
    "\n",
    "# Define the parameters\n",
    "img_size = 224\n",
    "patch_size = 16\n",
    "in_chans = 3\n",
    "embed_dim = 768\n",
    "\n",
    "# Create a dummy input tensor with shape (batch_size, in_chans, img_size, img_size)\n",
    "dummy_input = torch.randn(1, in_chans, img_size, img_size)\n",
    "\n",
    "# Instantiate the PatchEmbed class\n",
    "patch_embed = PatchEmbed(img_size, patch_size, in_chans, embed_dim)\n",
    "\n",
    "# Pass the dummy input through the model\n",
    "output = patch_embed(dummy_input)\n",
    "\n",
    "# Print the shape of the output\n",
    "print(\"Output shape:\", output.shape)\n"
   ]
  },
  {
   "cell_type": "code",
   "execution_count": 11,
   "metadata": {},
   "outputs": [
    {
     "name": "stdout",
     "output_type": "stream",
     "text": [
      "Output shape: torch.Size([4, 17, 768])\n"
     ]
    }
   ],
   "source": [
    "import torch\n",
    "import torch.nn as nn\n",
    "\n",
    "class Attention(nn.Module):\n",
    "    def __init__(self, dim, n_heads=12, qkv_bias=True, attn_p=0, proj_p=0):\n",
    "        super().__init__()\n",
    "        self.n_heads = n_heads\n",
    "        self.dim = dim\n",
    "        self.head_dim = dim // n_heads\n",
    "        self.scale = self.head_dim ** -0.5\n",
    "\n",
    "        self.qkv = nn.Linear(dim, dim * 3, bias=qkv_bias)\n",
    "        self.attn_drop = nn.Dropout(attn_p)\n",
    "        self.proj = nn.Linear(dim, dim)\n",
    "        self.proj_drop = nn.Dropout(proj_p)\n",
    "    \n",
    "    def forward(self, x):\n",
    "        qkv = self.qkv(x)  # [batch_size, n_patches+1, dim*3]\n",
    "        qkv = qkv.reshape(qkv.shape[0], qkv.shape[1], 3, self.n_heads, self.head_dim).permute(2, 0, 3, 1, 4)\n",
    "        q, k, v = qkv[0], qkv[1], qkv[2]\n",
    "\n",
    "        attn = (q @ k.transpose(2, 3)) * self.scale\n",
    "        attn = nn.Softmax(dim=-1)(attn)\n",
    "        attn = self.attn_drop(attn)\n",
    "\n",
    "        weighted_avg = attn @ v\n",
    "        weighted_avg = weighted_avg.transpose(1, 2)\n",
    "        weighted_avg = weighted_avg.flatten(2)\n",
    "\n",
    "        x = self.proj(weighted_avg)\n",
    "        x = self.proj_drop(x)\n",
    "\n",
    "        return x\n",
    "\n",
    "# Example usage to test the Attention class\n",
    "batch_size = 4\n",
    "n_patches = 16\n",
    "dim = 768\n",
    "\n",
    "# Create a dummy input tensor\n",
    "x = torch.randn(batch_size, n_patches + 1, dim)  # Shape: [batch_size, n_patches+1, dim]\n",
    "\n",
    "# Initialize the Attention module\n",
    "attention = Attention(dim=dim)\n",
    "\n",
    "# Pass the input tensor through the Attention module\n",
    "output = attention(x)\n",
    "\n",
    "# Print the output shape to verify\n",
    "print(\"Output shape:\", output.shape)\n",
    "\n"
   ]
  }
 ],
 "metadata": {
  "kernelspec": {
   "display_name": "Python 3",
   "language": "python",
   "name": "python3"
  },
  "language_info": {
   "codemirror_mode": {
    "name": "ipython",
    "version": 3
   },
   "file_extension": ".py",
   "mimetype": "text/x-python",
   "name": "python",
   "nbconvert_exporter": "python",
   "pygments_lexer": "ipython3",
   "version": "3.8.10"
  }
 },
 "nbformat": 4,
 "nbformat_minor": 2
}
